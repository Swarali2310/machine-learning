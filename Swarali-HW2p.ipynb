{
 "cells": [
  {
   "cell_type": "code",
   "execution_count": 32,
   "metadata": {
    "colab": {},
    "colab_type": "code",
    "id": "1Rg2uSiFSRJe"
   },
   "outputs": [],
   "source": [
    "import numpy as np\n",
    "import pandas as pd\n",
    "import time\n",
    "import matplotlib.pyplot as plt\n",
    "from sklearn.linear_model import LogisticRegression"
   ]
  },
  {
   "cell_type": "markdown",
   "metadata": {
    "colab_type": "text",
    "id": "oDTSO7-MSRJj"
   },
   "source": [
    "# Problem 1\n",
    "## Dataset Generation"
   ]
  },
  {
   "cell_type": "markdown",
   "metadata": {
    "colab_type": "text",
    "id": "Tx7KW28cSRJk"
   },
   "source": [
    "Write a function to **generate a training set** of size $m$\n",
    "- randomly generate a weight vector $w \\in \\mathbb{R}^{10}$, normalize length\n",
    "- generate a training set $\\{(x_i , y_i)\\}$ of size m\n",
    "  - $x_i$: random vector in $\\mathbb{R}^{10}$ from $\\textbf{N}(0, I)$\n",
    "  - $y_i$: $\\{0, +1\\}$ with $P[y = +1] = \\sigma(w \\cdot x_i)$ and $P[y = 0] = 1 - \\sigma(w \\cdot x_i)$"
   ]
  },
  {
   "cell_type": "code",
   "execution_count": 33,
   "metadata": {
    "colab": {},
    "colab_type": "code",
    "id": "AUHuXrsgSRJl"
   },
   "outputs": [],
   "source": [
    "#calculates the sigmoid value\n",
    "def sigmoid(z):\n",
    "    return 1.0 / (1 + np.exp(-z))\n",
    "\n",
    "#calculates the 2-norm of a vector x\n",
    "def calculate_two_norm(x):\n",
    "    return np.sqrt(np.sum(np.square(x)))\n",
    "\n",
    "#calculates the label for the training set with probability based on sigmoid\n",
    "def choose_label_y(xi,w):\n",
    "    prob1=sigmoid(np.dot(xi,w.transpose()).item())\n",
    "    yi=np.random.choice([0,1],1,p=[1-prob1, prob1])\n",
    "    return yi\n",
    "\n",
    "#generates the training set of the size specified\n",
    "def generate_data(m):\n",
    "    y=[] \n",
    "    mu,sigma=0,np.sqrt(1)\n",
    "    \n",
    "    w=np.random.normal(mu,sigma,size=(1,10)) #generating w vector of size 10 from a normal distribution N(0,1)\n",
    "    \n",
    "    w_magnitude=calculate_two_norm(w)\n",
    "    w=w/w_magnitude #normalize w\n",
    "    \n",
    "    X=np.array(np.random.normal(mu,sigma,size=(m,10))) #generating X of size (m,10) from a normal distribution N(0,1)\n",
    "    \n",
    "    for i in range(m):\n",
    "        y.extend(choose_label_y(X[i],w))  #generating the label vector\n",
    "    return (X,y,w)\n",
    "\n",
    "set_size=[50, 100, 150, 200]\n",
    "\n",
    "#Generates data, trains the classifier over 1000 iterations for given sample size and calculates the average error rate\n",
    "def logistic_regression():\n",
    "    average_error_rate=[]\n",
    "    for ss in set_size:\n",
    "        error_rate=[]\n",
    "        for i in range(10):\n",
    "            (X,y,w)=generate_data(ss)\n",
    "            clf = LogisticRegression(max_iter=1000).fit(X,y)\n",
    "            w_new=clf.coef_\n",
    "            error_rate.append(calculate_two_norm(w_new-w))\n",
    "        average_error_rate.append(np.average(error_rate))\n",
    "    plt.plot(set_size,average_error_rate,label='logistic regression')\n",
    "    _=plt.xticks(set_size)\n",
    "    print(\"The averaged 2-norm error rate = \",average_error_rate)\n",
    "        \n",
    "#Generates data, trains the classifier over 1000 iterations for given sample size and calculates the average error rate\n",
    "def gradient_descent():\n",
    "    average_error_rate=[]\n",
    "    for ss in set_size:\n",
    "        error_rate=[]\n",
    "        for i in range(10):\n",
    "            (X,y,w)=generate_data(ss)\n",
    "            w_new=np.zeros(10) #initialize the w_new vector (predicted) to 0\n",
    "            for iterator in range(1000):\n",
    "                w_new=gradient(X,y,w_new,ss) #calculate the w_new value for 1000 iterations to fit the data\n",
    "            error_rate.append(calculate_two_norm(w_new-w)) #calculate the error rate over 10 iterations\n",
    "        average_error_rate.append(np.average(error_rate)) #average the error rate over the 10 iterations\n",
    "    plt.plot(set_size,average_error_rate,label='gradient descent')\n",
    "    _=plt.xticks(set_size)\n",
    "    print(\"The averaged 2-norm error rate = \",average_error_rate)\n",
    "\n",
    "#calculation of the gradient for the Gradient Descent algorithm\n",
    "def gradient(X,y,w_old,m):\n",
    "    w_new=[]\n",
    "    eta=0.01 #step size\n",
    "    gradient=0\n",
    "    #calcute the gradient as per the formula specified below\n",
    "    for i in range(m):\n",
    "        w_transpose_x=np.dot(X[i],w_old.transpose()).item()\n",
    "        sigmoid_quantity=sigmoid(w_transpose_x)\n",
    "        gradient+=X[i]*(sigmoid_quantity-y[i])*(sigmoid_quantity**2)*np.exp(-1*w_transpose_x)\n",
    "    gradient/=m #averaging the sum gradient\n",
    "    w_new=w_old - eta*gradient #calculating the new w value \n",
    "    return w_new\n",
    "\n",
    "#Generates data, trains the classifier over 1000 iterations for given sample size and calculates the average error rate\n",
    "def stochastic_gradient_descent():\n",
    "    average_error_rate=[]\n",
    "    for ss in set_size:\n",
    "        error_rate=[]\n",
    "        for i in range(10):\n",
    "            (X,y,w)=generate_data(ss)\n",
    "            w_new=np.zeros(10) #initialize the w_new vector to zeroes\n",
    "            for iterator in range(1000):\n",
    "                w_new=stochastic_gradient(X,y,w_new,ss) \n",
    "            error_rate.append(calculate_two_norm(w_new-w))\n",
    "        average_error_rate.append(np.average(error_rate))\n",
    "    plt.plot(set_size,average_error_rate,label='stochastic gradient descent')\n",
    "    plt.legend()\n",
    "    plt.xlabel('Sampling points')\n",
    "    plt.ylabel('2-norm error rates')\n",
    "    _=plt.xticks(set_size)\n",
    "    print(\"The averaged 2-norm error rate = \",average_error_rate)\n",
    "\n",
    "#calculation of the gradient for the Stochastic Gradient Descent algorithm    \n",
    "def stochastic_gradient(X,y,w_old,m):\n",
    "    w_new=[]\n",
    "    eta=0.01\n",
    "    random_index=np.random.randint(0,m) #picking a random integer from [0,m-1] as an index for X matrix\n",
    "    w_transpose_x=np.dot(X[random_index],w_old.transpose()).item()\n",
    "    sigmoid_quantity=sigmoid(w_transpose_x)\n",
    "    gradient=X[random_index]*(sigmoid_quantity-y[random_index])*(sigmoid_quantity**2)*np.exp(-1*w_transpose_x)\n",
    "    w_new=w_old - eta*gradient\n",
    "    return w_new\n",
    "\n",
    "    "
   ]
  },
  {
   "cell_type": "markdown",
   "metadata": {
    "colab_type": "text",
    "id": "wx2-15fASRJy"
   },
   "source": [
    "## Algorithm 1: logistic regression\n",
    "\n",
    "The goal is to learn $w$.  Algorithm 1 is logistic\n",
    "  regression (you may use the built-in method LogisticRegression for this. Use max_iter=1000)."
   ]
  },
  {
   "cell_type": "markdown",
   "metadata": {
    "colab_type": "text",
    "id": "YzmNdy6ZSRJ3"
   },
   "source": [
    "## Algorithm 2: gradient descent with square loss\n",
    "\n",
    "Define square loss as\n",
    "$$L_i(w^{(t)}) = \\frac{1}{2} \\left( \\sigma(w^{(t)} \\cdot x) - y_i \\right)^2$$\n",
    "\n",
    "  Algorithm 2 is\n",
    "  gradient descent with respect to square loss (code this\n",
    "  up yourself -- run for 1000 iterations, use step size eta = 0.01)."
   ]
  },
  {
   "cell_type": "markdown",
   "metadata": {},
   "source": [
    "## Algorithm 3: stochastic gradient descent with square loss\n",
    "Similar to gradient descent, except we use the gradient at a single random training point every iteration."
   ]
  },
  {
   "cell_type": "markdown",
   "metadata": {
    "colab_type": "text",
    "id": "5A-dLi3TSRJ-"
   },
   "source": [
    "## Evaluation\n",
    "\n",
    "Measure error $\\|w - \\hat{w}\\|_2$ for each method at different sample size. For any\n",
    "  fixed value of $m$, choose many different $w$'s and average the\n",
    "  values $\\|w - \n",
    "  \\hat{w}\\|_2$ for Algorithms 1, 2 and 3.  Plot the results\n",
    "  for for each algorithm as you make $m$ large (use $m=50, 100, 150, 200, 250$).\n",
    "  Also record, for each algorithm, the time taken to run the overall experiment."
   ]
  },
  {
   "cell_type": "code",
   "execution_count": 34,
   "metadata": {
    "scrolled": true
   },
   "outputs": [
    {
     "name": "stdout",
     "output_type": "stream",
     "text": [
      "Logistic Regression\n",
      "The averaged 2-norm error rate =  [1.03364333795739, 0.7891145925963124, 0.544438550075629, 0.46665446421255136]\n",
      "Time taken for logistic regression is  0.7599999999999909\n",
      "================================\n",
      "\n",
      "Gradient Descent\n",
      "The averaged 2-norm error rate =  [0.7595362109588535, 0.6686944057120833, 0.6564178851870991, 0.6336696173914128]\n",
      "Time taken for gradient descent is  103.16999999999996\n",
      "================================\n",
      "\n",
      "Stochastic Gradient Descent\n",
      "The averaged 2-norm error rate =  [0.7434031420277452, 0.7022920428811871, 0.6908603456246742, 0.6764574408146873]\n",
      "Time taken for stochastic gradient descent is  1.6399999999999864\n",
      "================================\n",
      "\n"
     ]
    },
    {
     "data": {
      "image/png": "[encoded data removed]",
      "text/plain": [
       "<Figure size 432x288 with 1 Axes>"
      ]
     },
     "metadata": {
      "needs_background": "light"
     },
     "output_type": "display_data"
    }
   ],
   "source": [
    "print(\"Logistic Regression\")\n",
    "start_time=time.clock()\n",
    "logistic_regression()\n",
    "logistic_regression_time=time.clock()-start_time\n",
    "print(\"Time taken for logistic regression is \", logistic_regression_time)\n",
    "print(\"================================\\n\")\n",
    "\n",
    "print(\"Gradient Descent\")\n",
    "start_time=time.clock()\n",
    "gradient_descent()\n",
    "gradient_descent_time=time.clock()-start_time\n",
    "print(\"Time taken for gradient descent is \", gradient_descent_time)\n",
    "print(\"================================\\n\")\n",
    "\n",
    "print(\"Stochastic Gradient Descent\")\n",
    "start_time=time.clock()\n",
    "stochastic_gradient_descent()\n",
    "stochastic_gradient_descent_time=time.clock()-start_time\n",
    "print(\"Time taken for stochastic gradient descent is \", stochastic_gradient_descent_time)\n",
    "print(\"================================\\n\")"
   ]
  },
  {
   "cell_type": "markdown",
   "metadata": {},
   "source": [
    "## Formula used for Gradient calculation in Gradient Descent algorithm\n",
    "\n",
    "$\\triangledown(L(w)$) = $\\frac{1}{m}*\\sum_{1}^{m} x^i*(\\sigma(w^Tx^i) - y^i)*(\\sigma(w^Tx^i)^2)*e^{-w^Tx^i}$\n"
   ]
  },
  {
   "cell_type": "markdown",
   "metadata": {},
   "source": [
    "# Problem 2"
   ]
  },
  {
   "cell_type": "code",
   "execution_count": 35,
   "metadata": {},
   "outputs": [],
   "source": [
    "from sklearn import datasets\n",
    "from sklearn.ensemble import AdaBoostClassifier\n",
    "from sklearn.model_selection import cross_val_score\n",
    "from sklearn import tree"
   ]
  },
  {
   "cell_type": "code",
   "execution_count": 36,
   "metadata": {},
   "outputs": [],
   "source": [
    "cancer = datasets.load_breast_cancer()"
   ]
  },
  {
   "cell_type": "markdown",
   "metadata": {},
   "source": [
    "For each depth in $1, \\dots, 5$, instantiate an AdaBoost classifier with the base learner set to be a decision tree of that depth (set `n_estimators=10` and `learning_rate=1`), and then record the 10-fold cross-validated error on the entire breast cancer data set. Plot the resulting curve of accuracy against base classifier depth. Use $101$ as your random state for both the base learner as well as the AdaBoost classifier every time."
   ]
  },
  {
   "cell_type": "code",
   "execution_count": 37,
   "metadata": {},
   "outputs": [
    {
     "data": {
      "text/plain": [
       "<matplotlib.legend.Legend at 0x7f198d294550>"
      ]
     },
     "execution_count": 37,
     "metadata": {},
     "output_type": "execute_result"
    },
    {
     "data": {
      "image/png": "[encoded data removed]",
      "text/plain": [
       "<Figure size 432x288 with 1 Axes>"
      ]
     },
     "metadata": {
      "needs_background": "light"
     },
     "output_type": "display_data"
    }
   ],
   "source": [
    "X,y = cancer.data, cancer.target\n",
    "crossValidationAccuracy=[]\n",
    "for depth in range(1,6):\n",
    "    clf = AdaBoostClassifier(base_estimator=tree.DecisionTreeClassifier(max_depth=depth,random_state=101), n_estimators=10, learning_rate=1,random_state=101)\n",
    "    crossValidationAccuracy.append(cross_val_score(estimator=clf, X=cancer.data, y=cancer.target,cv=10).mean())\n",
    "plt.plot(range(1,6),crossValidationAccuracy,label='10 fold CV accuracy of AdaBoost')\n",
    "plt.xlabel('Depth of the tree')\n",
    "plt.ylabel('Cross Validation accuracy of Adaboost')\n",
    "_=plt.xticks(range(1,6))\n",
    "plt.legend()"
   ]
  }
 ],
 "metadata": {
  "colab": {
   "name": "hw2_programming_sol.ipynb",
   "provenance": [],
   "version": "0.3.2"
  },
  "kernelspec": {
   "display_name": "Python 3",
   "language": "python",
   "name": "python3"
  },
  "language_info": {
   "codemirror_mode": {
    "name": "ipython",
    "version": 3
   },
   "file_extension": ".py",
   "mimetype": "text/x-python",
   "name": "python",
   "nbconvert_exporter": "python",
   "pygments_lexer": "ipython3",
   "version": "3.6.8"
  }
 },
 "nbformat": 4,
 "nbformat_minor": 1
}
